{
  "nbformat": 4,
  "nbformat_minor": 0,
  "metadata": {
    "colab": {
      "name": "Lab1Practice.ipynb",
      "provenance": [],
      "collapsed_sections": [],
      "authorship_tag": "ABX9TyMKMpxTMTc10OKjR1lj+EHh",
      "include_colab_link": true
    },
    "kernelspec": {
      "name": "python3",
      "display_name": "Python 3"
    }
  },
  "cells": [
    {
      "cell_type": "markdown",
      "metadata": {
        "id": "view-in-github",
        "colab_type": "text"
      },
      "source": [
        "<a href=\"https://colab.research.google.com/github/jluftschein/PracticeWithWebDesign1/blob/master/Lab1Practice.ipynb\" target=\"_parent\"><img src=\"https://colab.research.google.com/assets/colab-badge.svg\" alt=\"Open In Colab\"/></a>"
      ]
    },
    {
      "cell_type": "markdown",
      "metadata": {
        "id": "QTB77NLMu7d3",
        "colab_type": "text"
      },
      "source": [
        "## Do you like using Jupyter Notebooks?"
      ]
    },
    {
      "cell_type": "markdown",
      "metadata": {
        "id": "V3-DnU6DvIRV",
        "colab_type": "text"
      },
      "source": [
        "Yes, I do like using Jupyter Notebooks.\n"
      ]
    },
    {
      "cell_type": "markdown",
      "metadata": {
        "id": "a5jgXVqlvPUy",
        "colab_type": "text"
      },
      "source": [
        "## What do you want to learn more about in Jupyter Notebooks?"
      ]
    },
    {
      "cell_type": "markdown",
      "metadata": {
        "id": "e-Bz2AVMvS1l",
        "colab_type": "text"
      },
      "source": [
        "I want to learn about everything."
      ]
    },
    {
      "cell_type": "markdown",
      "metadata": {
        "id": "fWVkNlPcvg4c",
        "colab_type": "text"
      },
      "source": [
        "![friends and football](https://raw.githubusercontent.com/jluftschein/PracticeWithWebDesign1/master/Images/Asset0025.jpg)"
      ]
    }
  ]
}