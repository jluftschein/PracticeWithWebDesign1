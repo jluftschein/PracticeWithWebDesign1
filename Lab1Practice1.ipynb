{
  "nbformat": 4,
  "nbformat_minor": 0,
  "metadata": {
    "colab": {
      "name": "Lab1Practice1.ipynb",
      "provenance": [],
      "collapsed_sections": [],
      "authorship_tag": "ABX9TyPSUz1mGNDarYpHZAsDaYy5",
      "include_colab_link": true
    },
    "kernelspec": {
      "name": "python3",
      "display_name": "Python 3"
    }
  },
  "cells": [
    {
      "cell_type": "markdown",
      "metadata": {
        "id": "view-in-github",
        "colab_type": "text"
      },
      "source": [
        "<a href=\"https://colab.research.google.com/github/jluftschein/PracticeWithWebDesign1/blob/master/Lab1Practice1.ipynb\" target=\"_parent\"><img src=\"https://colab.research.google.com/assets/colab-badge.svg\" alt=\"Open In Colab\"/></a>"
      ]
    },
    {
      "cell_type": "markdown",
      "metadata": {
        "id": "QTB77NLMu7d3",
        "colab_type": "text"
      },
      "source": [
        "## Do you like using Jupyter Notebooks?"
      ]
    },
    {
      "cell_type": "markdown",
      "metadata": {
        "id": "V3-DnU6DvIRV",
        "colab_type": "text"
      },
      "source": [
        "Yes, I do like using Jupyter Notebooks. I think it is easy to navigate and understand.\n"
      ]
    },
    {
      "cell_type": "markdown",
      "metadata": {
        "id": "a5jgXVqlvPUy",
        "colab_type": "text"
      },
      "source": [
        "## What do you want to learn more about in Jupyter Notebooks?"
      ]
    },
    {
      "cell_type": "markdown",
      "metadata": {
        "id": "e-Bz2AVMvS1l",
        "colab_type": "text"
      },
      "source": [
        "I'm not too familiar with coding and softwarea, so I would like to be able to understand and effectivly use Jupyter Notebooks. Also, I want to learn how to use these skills outside of school and in a job setting. "
      ]
    },
    {
      "cell_type": "markdown",
      "metadata": {
        "id": "fWVkNlPcvg4c",
        "colab_type": "text"
      },
      "source": [
        "![friends and football](https://raw.githubusercontent.com/jluftschein/PracticeWithWebDesign1/master/Images/Asset0025.jpg)"
      ]
    }
  ]
}